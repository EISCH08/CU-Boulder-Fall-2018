{
 "cells": [
  {
   "cell_type": "code",
   "execution_count": 11,
   "metadata": {},
   "outputs": [
    {
     "name": "stdout",
     "output_type": "stream",
     "text": [
      "Lol\n",
      "Lol\n",
      "Lol\n",
      "Lol\n",
      "Lol\n",
      "Lol\n"
     ]
    },
    {
     "data": {
      "text/plain": [
       "defined \u001b[32mfunction\u001b[39m \u001b[36misPowerOfTwo\u001b[39m\n",
       "defined \u001b[32mfunction\u001b[39m \u001b[36mrecurseToPowerOfTwo\u001b[39m\n",
       "\u001b[36mres10_2\u001b[39m: \u001b[32mBoolean\u001b[39m = \u001b[32mfalse\u001b[39m\n",
       "\u001b[36mres10_3\u001b[39m: \u001b[32mInt\u001b[39m = \u001b[32m16\u001b[39m"
      ]
     },
     "execution_count": 11,
     "metadata": {},
     "output_type": "execute_result"
    }
   ],
   "source": [
    "def isPowerOfTwo(x: Int): Boolean = {\n",
    "   // println(\"value\")\n",
    "    if (x == 0) { return false }\n",
    "    else if (x == 1) { return true }\n",
    "    else if (x %2 == 1){ return false }\n",
    "    else { return isPowerOfTwo(x/2) }\n",
    "}\n",
    "\n",
    "def recurseToPowerOfTwo(x: Int): Int = {\n",
    "    println(\"Lol\")\n",
    "      if (isPowerOfTwo(x)) {  return x }\n",
    "      else { recurseToPowerOfTwo(x + 1) } \n",
    "}\n",
    "isPowerOfTwo(140)\n",
    "recurseToPowerOfTwo(11)\n"
   ]
  },
  {
   "cell_type": "markdown",
   "metadata": {},
   "source": [
    "### "
   ]
  }
 ],
 "metadata": {
  "kernelspec": {
   "display_name": "Scala",
   "language": "scala",
   "name": "scala"
  },
  "language_info": {
   "codemirror_mode": "text/x-scala",
   "file_extension": ".scala",
   "mimetype": "text/x-scala",
   "name": "scala211",
   "nbconvert_exporter": "script",
   "pygments_lexer": "scala",
   "version": "2.11.11"
  }
 },
 "nbformat": 4,
 "nbformat_minor": 2
}
